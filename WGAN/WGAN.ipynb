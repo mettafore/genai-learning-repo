{
 "cells": [
  {
   "cell_type": "code",
   "execution_count": 42,
   "metadata": {},
   "outputs": [],
   "source": [
    "import torch\n",
    "import torch.nn as nn\n",
    "import torch.optim as optim\n",
    "import torchvision\n",
    "import torchvision.datasets as datasets\n",
    "import torchvision.transforms as transforms\n",
    "import matplotlib.pyplot as plt\n",
    "import numpy as np\n",
    "# RMS Prop\n",
    "import torch.optim as optim\n",
    "import os\n",
    "from torch.utils.data import DataLoader\n"
   ]
  },
  {
   "cell_type": "code",
   "execution_count": 43,
   "metadata": {},
   "outputs": [
    {
     "name": "stdout",
     "output_type": "stream",
     "text": [
      "mps\n"
     ]
    }
   ],
   "source": [
    "def get_device():\n",
    "    return torch.device(\"mps\")\n",
    "\n",
    "device = get_device()\n",
    "print(device)"
   ]
  },
  {
   "cell_type": "code",
   "execution_count": 44,
   "metadata": {},
   "outputs": [],
   "source": [
    "class Generator(nn.Module):\n",
    "    def __init__(self, latent_dim):\n",
    "        super(Generator, self).__init__()\n",
    "        self.gen = nn.Sequential(\n",
    "            nn.Linear(latent_dim, 256),\n",
    "            nn.BatchNorm1d(256),\n",
    "            nn.LeakyReLU(0.2),\n",
    "            nn.Linear(256, 512),\n",
    "            nn.BatchNorm1d(512), \n",
    "            nn.LeakyReLU(0.2),\n",
    "            nn.Linear(512, 1024),\n",
    "            nn.BatchNorm1d(1024),\n",
    "            nn.LeakyReLU(0.2),\n",
    "            nn.Linear(1024, 784),\n",
    "            nn.Tanh()\n",
    "        )\n",
    "    def forward(self, z):\n",
    "        return self.gen(z)\n",
    "    \n",
    "class Critic(nn.Module):\n",
    "    def __init__(self, img_dim):\n",
    "        super(Critic, self).__init__()\n",
    "        self.critic = nn.Sequential(\n",
    "            nn.Linear(img_dim, 512),\n",
    "            nn.LeakyReLU(0.2),\n",
    "            nn.Linear(512, 256),\n",
    "            nn.LeakyReLU(0.2),\n",
    "            nn.Linear(256, 1),\n",
    "        )\n",
    "    def forward(self, x):\n",
    "        return self.critic(x)\n",
    "    "
   ]
  },
  {
   "cell_type": "code",
   "execution_count": 45,
   "metadata": {},
   "outputs": [],
   "source": [
    "lr = 0.0002\n",
    "batch_size = 64\n",
    "epochs = 200\n",
    "img_dim = 784\n",
    "img_size = 28\n",
    "latent_dim = 100\n",
    "\n",
    "generator = Generator(latent_dim).to(device)\n",
    "critic = Critic(img_dim).to(device)\n",
    "\n",
    "optim_g = optim.RMSprop(generator.parameters(), lr=lr)\n",
    "optim_c = optim.RMSprop(critic.parameters(), lr=lr)\n",
    "weight_clip = 0.01\n",
    "critic_iterations = 5\n"
   ]
  },
  {
   "cell_type": "code",
   "execution_count": 46,
   "metadata": {},
   "outputs": [],
   "source": [
    "def get_data_loader(img_size=32, batch_size=32):\n",
    "    transform = transforms.Compose([transforms.Resize(img_size), transforms.ToTensor()])\n",
    "    dataset = datasets.MNIST(\"../../data/mnist\", train=True, download=True, transform=transform)\n",
    "    return DataLoader(\n",
    "        dataset, \n",
    "        batch_size=batch_size, \n",
    "        shuffle=True,\n",
    "        num_workers=8,\n",
    "        pin_memory=True,\n",
    "    )\n",
    "\n",
    "data_loader = get_data_loader(img_size=img_size, batch_size=batch_size)"
   ]
  },
  {
   "cell_type": "code",
   "execution_count": null,
   "metadata": {},
   "outputs": [],
   "source": []
  },
  {
   "cell_type": "code",
   "execution_count": 47,
   "metadata": {},
   "outputs": [],
   "source": [
    "def save_generated_images(generator, batch_size, fixed_noise, epoch, batch_idx, save_dir=\"images\"):\n",
    "    \"\"\"\n",
    "    Save generated images from the generator.\n",
    "    \n",
    "    Args:\n",
    "        generator: The generator model\n",
    "        batch_size: Batch size\n",
    "        fixed_noise: Fixed noise vector for consistent image generation\n",
    "        epoch: Current epoch number\n",
    "        batch_idx: Current batch index\n",
    "        save_dir: Directory to save images\n",
    "    \"\"\"\n",
    "    # Create directory if it doesn't exist\n",
    "    os.makedirs(save_dir, exist_ok=True)\n",
    "    \n",
    "    # Generate images\n",
    "    generator.eval()  # Set to eval mode\n",
    "    with torch.no_grad():\n",
    "        fake = generator(fixed_noise).reshape(-1, 1, 28, 28)\n",
    "        # Un-normalize from [-1,1] to [0,1] range\n",
    "        fake = fake * 0.5 + 0.5\n",
    "        fake = fake.clamp(0, 1)\n",
    "        \n",
    "        # Create grid and save\n",
    "        img_grid_fake = torchvision.utils.make_grid(\n",
    "            fake, \n",
    "            normalize=False, \n",
    "            padding=2,\n",
    "            nrow=int(batch_size ** 0.5)  # Calculate grid size based on batch size\n",
    "        )\n",
    "        \n",
    "        # Create filename with timestamp\n",
    "        timestamp = datetime.datetime.now().strftime(\"%Y%m%d_%H%M%S\")\n",
    "        filename = f\"{save_dir}/fake_images_epoch{epoch}_batch{batch_idx}_{timestamp}.png\"\n",
    "        \n",
    "        torchvision.utils.save_image(img_grid_fake, filename, normalize=False)\n",
    "    \n",
    "    generator.train()  # Set back to training mode\n",
    "\n",
    "# Then in your training loop:\n",
    "if batch_idx % 100 == 0:\n",
    "    print(f\"Epoch [{epoch}/{epochs}] Batch [{batch_idx}/{len(data_loader)}] \"\n",
    "          f\"Loss_C: {loss_critic:.4f} Loss_G: {loss_gen:.4f}\")\n",
    "    save_generated_images(generator, fixed_noise, epoch, batch_idx)"
   ]
  },
  {
   "cell_type": "code",
   "execution_count": 48,
   "metadata": {},
   "outputs": [
    {
     "data": {
      "text/plain": [
       "938"
      ]
     },
     "execution_count": 48,
     "metadata": {},
     "output_type": "execute_result"
    }
   ],
   "source": [
    "len(data_loader)"
   ]
  },
  {
   "cell_type": "code",
   "execution_count": 49,
   "metadata": {},
   "outputs": [
    {
     "name": "stdout",
     "output_type": "stream",
     "text": [
      "Epoch [0/200] Batch [0/938] Loss_C: -0.2873 Loss_G: 0.2625\n"
     ]
    }
   ],
   "source": [
    "# delete all files in images folder\n",
    "if os.path.exists(\"images\"):\n",
    "    for file in os.listdir(\"images\"):\n",
    "        os.remove(os.path.join(\"images\", file))\n",
    "\n",
    "fixed_noise = torch.randn(batch_size, latent_dim).to(device)\n",
    "for epoch in range(epochs):\n",
    "    for batch_idx, (real, _) in enumerate(data_loader):\n",
    "        real = real.view(-1, img_dim).to(device)\n",
    "        batch_size = real.shape[0]\n",
    "        for _ in range(critic_iterations):\n",
    "            noise = torch.randn(batch_size, latent_dim).to(device)\n",
    "            fake = generator(noise)\n",
    "            critic_real = critic(real).view(-1)\n",
    "            critic_fake = critic(fake).view(-1)\n",
    "            loss_critic = -(torch.mean(critic_real) - torch.mean(critic_fake))\n",
    "            critic.zero_grad()\n",
    "            loss_critic.backward()\n",
    "            optim_c.step()\n",
    "\n",
    "            for p in critic.parameters():\n",
    "                p.data.clamp_(-weight_clip, weight_clip)\n",
    "\n",
    "        noise = torch.randn(batch_size, latent_dim).to(device)\n",
    "        fake = generator(noise)\n",
    "        output = critic(fake).view(-1)\n",
    "        loss_gen = -torch.mean(output)\n",
    "        generator.zero_grad()\n",
    "        loss_gen.backward()\n",
    "        optim_g.step()\n",
    "\n",
    "\n",
    "        if batch_idx % 300 == 0:\n",
    "            print(f\"Epoch [{epoch}/{epochs}] Batch [{batch_idx}/{len(data_loader)}] Loss_C: {loss_critic:.4f} Loss_G: {loss_gen:.4f}\")\n",
    "            # saving images to folder\n",
    "            with torch.no_grad():\n",
    "                fake = generator(fixed_noise).reshape(-1, 1, 28, 28)\n",
    "                img_grid_fake = torchvision.utils.make_grid(fake, normalize=True)\n",
    "                torchvision.utils.save_image(img_grid_fake, f\"images/fake_images_{epoch}_{batch_idx}.png\")\n",
    "\n",
    "\n",
    "\n"
   ]
  },
  {
   "cell_type": "code",
   "execution_count": null,
   "metadata": {},
   "outputs": [],
   "source": []
  },
  {
   "cell_type": "code",
   "execution_count": 5,
   "metadata": {},
   "outputs": [],
   "source": []
  },
  {
   "cell_type": "code",
   "execution_count": 6,
   "metadata": {},
   "outputs": [],
   "source": [
    "\n",
    "\n"
   ]
  },
  {
   "cell_type": "code",
   "execution_count": null,
   "metadata": {},
   "outputs": [],
   "source": []
  }
 ],
 "metadata": {
  "kernelspec": {
   "display_name": ".venv",
   "language": "python",
   "name": "python3"
  },
  "language_info": {
   "codemirror_mode": {
    "name": "ipython",
    "version": 3
   },
   "file_extension": ".py",
   "mimetype": "text/x-python",
   "name": "python",
   "nbconvert_exporter": "python",
   "pygments_lexer": "ipython3",
   "version": "3.12.5"
  }
 },
 "nbformat": 4,
 "nbformat_minor": 2
}

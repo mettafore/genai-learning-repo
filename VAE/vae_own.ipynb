{
 "cells": [
  {
   "cell_type": "code",
   "execution_count": 266,
   "metadata": {},
   "outputs": [],
   "source": [
    "import torch\n",
    "import torch.nn as nn\n",
    "import torch.optim as optim\n",
    "import torch.nn.functional as F\n",
    "import torchvision.datasets as datasets\n",
    "import torchvision.transforms as transforms\n",
    "from matplotlib import pyplot as plt\n",
    "import logging\n"
   ]
  },
  {
   "cell_type": "code",
   "execution_count": 267,
   "metadata": {},
   "outputs": [],
   "source": [
    "def setup_logger(logging_level):\n",
    "    logger = logging.getLogger(__name__)\n",
    "    logger.setLevel(logging_level)\n",
    "    handler = logging.StreamHandler()\n",
    "    formatter = logging.Formatter('%(asctime)s - %(name)s - %(levelname)s - %(message)s')\n",
    "    handler.setFormatter(formatter)\n",
    "    logger.addHandler(handler)\n",
    "    return logger\n",
    "logging_level = 'INFO'\n",
    "LOGGER = setup_logger(logging_level)\n"
   ]
  },
  {
   "cell_type": "code",
   "execution_count": 268,
   "metadata": {},
   "outputs": [
    {
     "name": "stdout",
     "output_type": "stream",
     "text": [
      "{'dataset_name': 'mnist', 'hidden_dim': 1024, 'latent_dim': 100, 'lr': 0.0001, 'epochs': 20}\n"
     ]
    }
   ],
   "source": [
    "# ... existing code ...\n",
    "\n",
    "# Replace the argparse code with this:\n",
    "class Args:\n",
    "    def __init__(self, **kwargs):\n",
    "        self.__dict__.update(kwargs)\n",
    "\n",
    "    def __repr__(self):\n",
    "        return str(self.__dict__)\n",
    "\n",
    "# Define default arguments\n",
    "args = Args(\n",
    "    dataset_name=\"mnist\",\n",
    "    hidden_dim=1024,\n",
    "    latent_dim=100,\n",
    "    lr=0.0001,\n",
    "    epochs=20\n",
    ")\n",
    "\n",
    "# You can modify these values directly in the notebook\n",
    "# args.dataset_name = \"mnist\"\n",
    "# args.epochs = 10\n",
    "\n",
    "print(args)\n",
    "\n",
    "# ... existing code ..."
   ]
  },
  {
   "cell_type": "code",
   "execution_count": 269,
   "metadata": {},
   "outputs": [],
   "source": [
    "class VAE(nn.Module):\n",
    "    def __init__(self, input_channels, img_size, hidden_dim, latent_dim):\n",
    "        super(VAE, self).__init__()\n",
    "        # encoder\n",
    "        self.fc1 = nn.Linear(input_channels * img_size * img_size   , hidden_dim)\n",
    "        self.fc2 = nn.Linear(hidden_dim, hidden_dim)\n",
    "        self.fc_mean = nn.Linear(hidden_dim, latent_dim)\n",
    "        self.fc_logvar = nn.Linear(hidden_dim, latent_dim)\n",
    "        # decoder\n",
    "        self.fc3 = nn.Linear(latent_dim, hidden_dim)\n",
    "        self.fc4 = nn.Linear(hidden_dim, input_channels * img_size * img_size)\n",
    "        \n",
    "        \n",
    "    def encode(self, x):\n",
    "        e = F.relu(self.fc1(x))\n",
    "        e = F.relu(self.fc2(e))\n",
    "        return self.fc_mean(e), self.fc_logvar(e)\n",
    "    \n",
    "    def decode(self, z):\n",
    "        d = F.relu(self.fc3(z))\n",
    "        d = torch.sigmoid(self.fc4(d))\n",
    "        return d\n",
    "    \n",
    "    def reparametrize(self, mean, logvar):\n",
    "        std = torch.exp(0.5*logvar)\n",
    "        eps = torch.randn_like(std)\n",
    "        return mean + eps * std\n",
    "    \n",
    "    def forward(self, x):\n",
    "        mean, logvar = self.encode(x)\n",
    "        z = self.reparametrize(mean, logvar)\n",
    "        return self.decode(z), mean, logvar\n",
    "    \n",
    "    def loss_function(self, x, x_recon, mean, logvar):\n",
    "        BCE = F.binary_cross_entropy(x_recon, x, reduction='sum')\n",
    "        KLD = -0.5 * torch.sum(1 + logvar - mean.pow(2) - logvar.exp())\n",
    "        return KLD + BCE, KLD, BCE\n",
    "\n"
   ]
  },
  {
   "cell_type": "code",
   "execution_count": 270,
   "metadata": {},
   "outputs": [
    {
     "data": {
      "text/plain": [
       "VAE(\n",
       "  (fc1): Linear(in_features=784, out_features=1024, bias=True)\n",
       "  (fc2): Linear(in_features=1024, out_features=1024, bias=True)\n",
       "  (fc_mean): Linear(in_features=1024, out_features=100, bias=True)\n",
       "  (fc_logvar): Linear(in_features=1024, out_features=100, bias=True)\n",
       "  (fc3): Linear(in_features=100, out_features=1024, bias=True)\n",
       "  (fc4): Linear(in_features=1024, out_features=784, bias=True)\n",
       ")"
      ]
     },
     "execution_count": 270,
     "metadata": {},
     "output_type": "execute_result"
    }
   ],
   "source": [
    "\n",
    "dataset_name = 'cifar10'\n",
    "def setup_vae(dataset_name, hidden_dim, latent_dim, lr=0.001):\n",
    "    if dataset_name == 'mnist':\n",
    "        input_channels = 1\n",
    "        img_size = 28\n",
    "    elif dataset_name == 'fashion_mnist':\n",
    "        input_channels = 1\n",
    "        img_size = 28\n",
    "    elif dataset_name == 'cifar10':\n",
    "        input_channels = 3\n",
    "        img_size = 32\n",
    "    else:\n",
    "        raise ValueError(\"Invalid dataset name\")\n",
    "    \n",
    "    model = VAE(input_channels, img_size, hidden_dim, latent_dim)\n",
    "    optimizer = optim.Adam(model.parameters(), lr=lr)\n",
    "    return model, optimizer, input_channels, img_size\n",
    "\n",
    "\n",
    "def get_device():\n",
    "    # mps\n",
    "    if torch.backends.mps.is_available():\n",
    "        device = torch.device('mps')\n",
    "    else:\n",
    "        device = torch.device('cpu')\n",
    "    return device\n",
    "\n",
    "dataset_name = args.dataset_name\n",
    "hidden_dim = args.hidden_dim\n",
    "latent_dim = args.latent_dim\n",
    "lr = args.lr\n",
    "epochs = args.epochs\n",
    "\n",
    "model, optimizer, input_channels, img_size = setup_vae(dataset_name, hidden_dim, latent_dim, lr)\n",
    "\n",
    "device = get_device()\n",
    "model.to(device)\n"
   ]
  },
  {
   "cell_type": "code",
   "execution_count": 271,
   "metadata": {},
   "outputs": [],
   "source": [
    "def data_loader(dataset_name, img_size):        \n",
    "    if dataset_name == 'mnist':\n",
    "        train_loader = torch.utils.data.DataLoader(\n",
    "            datasets.MNIST('../../data', train=True, download=True, \n",
    "                       transform=transforms.Compose([transforms.Resize(img_size),\n",
    "                                                     transforms.ToTensor()])),\n",
    "            batch_size=64, shuffle=True\n",
    "            )\n",
    "    elif dataset_name == 'fashion_mnist':\n",
    "        train_loader = torch.utils.data.DataLoader(\n",
    "            datasets.FashionMNIST('../../data', train=True, download=True, \n",
    "                       transform=transforms.Compose([transforms.Resize(img_size),\n",
    "                                                     transforms.ToTensor()])),\n",
    "            batch_size=64, shuffle=True\n",
    "            )\n",
    "    elif dataset_name == 'cifar10':\n",
    "        train_loader = torch.utils.data.DataLoader(\n",
    "            datasets.CIFAR10('../../data', train=True, download=True, \n",
    "                       transform=transforms.Compose([transforms.Resize(img_size),\n",
    "                                                     transforms.ToTensor()])),\n",
    "            batch_size=64, shuffle=True\n",
    "            )\n",
    "    else:\n",
    "        raise ValueError(\"Invalid dataset name\")\n",
    "    return train_loader\n",
    "\n",
    "train_loader = data_loader(dataset_name, img_size) \n",
    "\n"
   ]
  },
  {
   "cell_type": "code",
   "execution_count": 272,
   "metadata": {},
   "outputs": [
    {
     "name": "stdout",
     "output_type": "stream",
     "text": [
      "3072\n",
      "196608\n"
     ]
    }
   ],
   "source": [
    "print(3*32*32)\n",
    "print(64*32*32*3)\n"
   ]
  },
  {
   "cell_type": "code",
   "execution_count": 273,
   "metadata": {},
   "outputs": [
    {
     "name": "stdout",
     "output_type": "stream",
     "text": [
      "Epoch [1/20], Average Loss: 0.08446730143229167, KLD: 0.00967815450032552, BCE: 0.07478914388020834\n",
      "Epoch [2/20], Average Loss: 0.0778560546875, KLD: 0.011273124186197917, BCE: 0.0665829345703125\n",
      "Epoch [3/20], Average Loss: 0.07090829264322916, KLD: 0.012141900634765624, BCE: 0.05876639404296875\n",
      "Epoch [4/20], Average Loss: 0.07438375651041666, KLD: 0.012041885375976563, BCE: 0.0623418701171875\n",
      "Epoch [5/20], Average Loss: 0.06721056315104167, KLD: 0.012780120849609375, BCE: 0.0544304443359375\n",
      "Epoch [6/20], Average Loss: 0.065208837890625, KLD: 0.013173234049479166, BCE: 0.05203560384114583\n",
      "Epoch [7/20], Average Loss: 0.06310811360677084, KLD: 0.013191864013671875, BCE: 0.049916251627604165\n",
      "Epoch [8/20], Average Loss: 0.0611372314453125, KLD: 0.013670846557617187, BCE: 0.047466385904947915\n",
      "Epoch [9/20], Average Loss: 0.062489404296875, KLD: 0.014223779296875, BCE: 0.048265625\n",
      "Epoch [10/20], Average Loss: 0.0594197998046875, KLD: 0.013358383178710938, BCE: 0.046061417643229165\n",
      "Epoch [11/20], Average Loss: 0.059026448567708334, KLD: 0.013879746500651042, BCE: 0.045146700032552084\n",
      "Epoch [12/20], Average Loss: 0.060620096842447915, KLD: 0.014189749145507812, BCE: 0.0464303466796875\n",
      "Epoch [13/20], Average Loss: 0.059102506510416666, KLD: 0.013135111490885417, BCE: 0.04596739501953125\n",
      "Epoch [14/20], Average Loss: 0.05906429850260417, KLD: 0.013566351318359374, BCE: 0.04549794921875\n",
      "Epoch [15/20], Average Loss: 0.059978983561197914, KLD: 0.014680867513020833, BCE: 0.04529811604817709\n",
      "Epoch [16/20], Average Loss: 0.052798291015625, KLD: 0.013001255289713541, BCE: 0.03979703776041667\n",
      "Epoch [17/20], Average Loss: 0.05416138916015625, KLD: 0.013742508951822916, BCE: 0.040418880208333334\n",
      "Epoch [18/20], Average Loss: 0.05745435384114583, KLD: 0.013459384155273438, BCE: 0.043994970703125\n",
      "Epoch [19/20], Average Loss: 0.059645963541666666, KLD: 0.014472469075520833, BCE: 0.04517349446614583\n",
      "Epoch [20/20], Average Loss: 0.056597395833333335, KLD: 0.013873943074544271, BCE: 0.04272345377604167\n"
     ]
    }
   ],
   "source": [
    "\n",
    "def train(model, input_channels, img_size, optimizer, epochs, train_loader, device):\n",
    "    for epoch in range(epochs):\n",
    "        for batch_idx, (data, _) in enumerate(train_loader):\n",
    "            data = data.to(device)\n",
    "            LOGGER.debug(data.shape)\n",
    "            LOGGER.debug(input_channels * img_size * img_size)\n",
    "            data = data.view(-1, input_channels * img_size * img_size)\n",
    "            LOGGER.debug(data.shape)\n",
    "            optimizer.zero_grad()\n",
    "            x_recon, mean, logvar = model(data)\n",
    "\n",
    "            loss, kld, bce = model.loss_function(data, x_recon, mean, logvar)\n",
    "            loss.backward()\n",
    "            optimizer.step()\n",
    "        average_loss = loss.item() / len(train_loader.dataset)\n",
    "        average_kld = kld.item() / len(train_loader.dataset)\n",
    "        average_bce = bce.item() / len(train_loader.dataset)\n",
    "        print(f'Epoch [{epoch+1}/{epochs}], Average Loss: {average_loss}, KLD: {average_kld}, BCE: {average_bce}')\n",
    "\n",
    "train(model, input_channels, img_size, optimizer, epochs, train_loader, device)"
   ]
  },
  {
   "cell_type": "code",
   "execution_count": 280,
   "metadata": {},
   "outputs": [
    {
     "data": {
      "image/png": "[encoded data removed]",
      "text/plain": [
       "<Figure size 1000x1000 with 10 Axes>"
      ]
     },
     "metadata": {},
     "output_type": "display_data"
    }
   ],
   "source": [
    "def generate_images(model, device, img_size, input_channels, num_images=10):\n",
    "    model.eval()\n",
    "    with torch.no_grad():\n",
    "        noise = torch.randn(num_images, 100).to(device)\n",
    "        images = model.decode(noise)\n",
    "        images = images.view(num_images, input_channels, img_size, img_size)\n",
    "    \n",
    "    # plot in grid square   \n",
    "    plt.figure(figsize=(10, 10))\n",
    "    for i in range(num_images):\n",
    "        plt.subplot(5, 5, i+1)\n",
    "        img = images[i].cpu().numpy().transpose(1, 2, 0)\n",
    "        plt.imshow(img)\n",
    "        plt.axis('off')\n",
    "    plt.show()\n",
    "\n",
    "# Call the function with correct parameters\n",
    "generate_images(model, device, img_size, input_channels, 10)"
   ]
  },
  {
   "cell_type": "code",
   "execution_count": 117,
   "metadata": {},
   "outputs": [
    {
     "name": "stdout",
     "output_type": "stream",
     "text": [
      "torch.Size([64, 3, 32, 32])\n",
      "(3, 32, 32)\n"
     ]
    },
    {
     "data": {
      "image/png": "[encoded data removed]",
      "text/plain": [
       "<Figure size 100x100 with 1 Axes>"
      ]
     },
     "metadata": {},
     "output_type": "display_data"
    }
   ],
   "source": [
    "\n",
    "from random import randint\n",
    "import numpy as np\n",
    "\n",
    "data = next(iter(train_loader))\n",
    "print(data[0].shape)\n",
    "\n",
    "# Randomly select an image\n",
    "random_index = randint(0, data[0].shape[0] - 1)\n",
    "\n",
    "# Get the selected image and convert it to numpy array\n",
    "img = data[0][random_index].cpu().numpy()\n",
    "print(img.shape)\n",
    "\n",
    "# Transpose the image to (height, width, channels)\n",
    "img = np.transpose(img, (1, 2, 0))\n",
    "\n",
    "# Normalize the image if necessary (CIFAR-10 images are already normalized)\n",
    "# img = np.clip(img, 0, 1)\n",
    "\n",
    "plt.figure(figsize=(1, 1))  # Set a smaller figure size\n",
    "plt.imshow(img, interpolation='nearest')  # Use nearest neighbor interpolation to avoid blurring\n",
    "plt.axis('off')\n",
    "plt.show()\n",
    "\n"
   ]
  },
  {
   "cell_type": "code",
   "execution_count": null,
   "metadata": {},
   "outputs": [],
   "source": []
  }
 ],
 "metadata": {
  "kernelspec": {
   "display_name": ".venv",
   "language": "python",
   "name": "python3"
  },
  "language_info": {
   "codemirror_mode": {
    "name": "ipython",
    "version": 3
   },
   "file_extension": ".py",
   "mimetype": "text/x-python",
   "name": "python",
   "nbconvert_exporter": "python",
   "pygments_lexer": "ipython3",
   "version": "3.12.5"
  }
 },
 "nbformat": 4,
 "nbformat_minor": 2
}
